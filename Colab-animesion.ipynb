{
  "nbformat": 4,
  "nbformat_minor": 0,
  "metadata": {
    "colab": {
      "name": "Colab-animesion.ipynb",
      "private_outputs": true,
      "provenance": [],
      "collapsed_sections": []
    },
    "kernelspec": {
      "name": "python3",
      "display_name": "Python 3"
    },
    "language_info": {
      "name": "python"
    },
    "accelerator": "GPU"
  },
  "cells": [
    {
      "cell_type": "markdown",
      "metadata": {
        "id": "FkcKe4V_fjD3"
      },
      "source": [
        "# Colab-animesion\n",
        "\n",
        "Original repo: [arkel23/animesion](https://github.com/arkel23/animesion)\n",
        "\n",
        "[Original Colab by hj](https://colab.research.google.com/drive/1yLqsqlCmIyQRAt0KD17eEDmojeavekRl#scrollTo=SB3tRmXf2duI)\n",
        "\n",
        "My fork: [styler00dollar/Colab-animesion](https://github.com/styler00dollar/Colab-animesion)"
      ]
    },
    {
      "cell_type": "code",
      "metadata": {
        "id": "VdHD5JkJ1kwD"
      },
      "source": [
        "!nvidia-smi"
      ],
      "execution_count": null,
      "outputs": []
    },
    {
      "cell_type": "code",
      "metadata": {
        "id": "SB3tRmXf2duI",
        "cellView": "form"
      },
      "source": [
        "#@title install\n",
        "!git clone https://github.com/arkel23/animesion\n",
        "!git clone https://github.com/arkel23/Danbooru2018AnimeCharacterRecognitionDataset_Revamped\n",
        "%cd /content/Danbooru2018AnimeCharacterRecognitionDataset_Revamped/labels\n",
        "!tar -xvzf tags.tar.gz\n",
        "!pip install gdown\n",
        "# verify_danbooruFaces_b16_ptTrue_batch16_imageSize128_50epochs_epochDecay20.ckpt\n",
        "!gdown --id 1hEtmrzlh7RrXuUoxi5eqMQd5yIirQ-XC\n",
        "# danbooruFull_B_16_image128_batch16_SGDlr0.001_ptTrue_seed0_warmupCosine_interFalse_mmTrue_textLen16_masksigmoidrandomtagtokenizingshufFalse_lastEpoch.ckpt\n",
        "!gdown --id 1pFADAEGz8woim_MRhDhtBN4hW6BrQByH\n",
        "# verify_danbooruFaces_l16_ptTrue_batch16_imageSize128_50epochs_epochDecay20.ckpt\n",
        "!gdown --id 1eZai1_gjos6TNeQZg6IY-cIWxtg0Pxah\n",
        "!pip install -r /content/animesion/requirements.txt\n",
        "%cd /content/animesion/classification_tagging/models\n",
        "!python setup.py install\n",
        "%cd /content/animesion/classification_tagging"
      ],
      "execution_count": null,
      "outputs": []
    },
    {
      "cell_type": "markdown",
      "metadata": {
        "id": "iDL5TuNsgFmO"
      },
      "source": [
        "```\n",
        "danbooruFull_B_16_image128_batch16_SGDlr0.001_ptTrue_seed0_warmupCosine_interFalse_mmTrue_textLen16_masksigmoidrandomtagtokenizingshufFalse_lastEpoch.ckpt #--mode recognition_tagging\n",
        "verify_danbooruFaces_b16_ptTrue_batch16_imageSize128_50epochs_epochDecay20.ckpt #--mode recognition_vision\n",
        "verify_danbooruFaces_l16_ptTrue_batch16_imageSize128_50epochs_epochDecay20.ckpt #--model_name L_16 --mode recognition_vision\n",
        "```"
      ]
    },
    {
      "cell_type": "markdown",
      "metadata": {
        "id": "U-HHV3Kfgk1B"
      },
      "source": [
        "Put images in ``/content/animesion/classification_tagging/test_images``."
      ]
    },
    {
      "cell_type": "code",
      "metadata": {
        "id": "wYmF1gcR8T-Y"
      },
      "source": [
        "!python inference.py --model_name L_16 --mode recognition_vision --dataset_path /content/Danbooru2018AnimeCharacterRecognitionDataset_Revamped --checkpoint_path /content/Danbooru2018AnimeCharacterRecognitionDataset_Revamped/labels/verify_danbooruFaces_l16_ptTrue_batch16_imageSize128_50epochs_epochDecay20.ckpt"
      ],
      "execution_count": null,
      "outputs": []
    },
    {
      "cell_type": "code",
      "metadata": {
        "id": "tsOsX-kH-DTB"
      },
      "source": [
        "# delete images if needed\n",
        "!rm /content/animesion/classification_tagging/test_images/*"
      ],
      "execution_count": null,
      "outputs": []
    }
  ]
}